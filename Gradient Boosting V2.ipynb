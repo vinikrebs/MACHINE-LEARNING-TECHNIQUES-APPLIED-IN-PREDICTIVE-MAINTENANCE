{
 "cells": [
  {
   "cell_type": "code",
   "execution_count": 1,
   "metadata": {},
   "outputs": [],
   "source": [
    "# Criação de graficos.\n",
    "import matplotlib.pyplot as plt\n",
    "import seaborn as sns\n",
    "import scikitplot as skplt\n",
    "# Manipulação de dados / álgebra linear.\n",
    "import numpy as np\n",
    "import pandas as pd\n",
    "# Utilidades.\n",
    "from sklearn.preprocessing import scale\n",
    "from sklearn.metrics import confusion_matrix, recall_score, accuracy_score, precision_score\n",
    "# Algoritmos de ML\n",
    "from sklearn.ensemble import GradientBoostingClassifier\n",
    "from xgboost import XGBClassifier as xgb\n",
    "from sklearn.ensemble import RandomForestClassifier\n",
    "from sklearn import model_selection\n",
    "# Outros\n",
    "import warnings"
   ]
  },
  {
   "cell_type": "code",
   "execution_count": 2,
   "metadata": {},
   "outputs": [],
   "source": [
    "# Algumas configurações.\n",
    "%matplotlib inline\n",
    "sns.set_style(\"darkgrid\")\n",
    "warnings.filterwarnings(\"ignore\")\n",
    "plt.rc(\"font\", family=\"serif\", size=15)"
   ]
  },
  {
   "cell_type": "code",
   "execution_count": 3,
   "metadata": {},
   "outputs": [],
   "source": [
    "telemetry = pd.read_csv('PdM_telemetry.csv', error_bad_lines=False)\n",
    "errors = pd.read_csv('PdM_errors.csv', error_bad_lines=False)\n",
    "maint = pd.read_csv('PdM_maint.csv', error_bad_lines=False)\n",
    "failures = pd.read_csv('PdM_failures.csv', error_bad_lines=False)\n",
    "machines = pd.read_csv('PdM_machines.csv', error_bad_lines=False)"
   ]
  },
  {
   "cell_type": "code",
   "execution_count": 4,
   "metadata": {},
   "outputs": [
    {
     "data": {
      "text/html": [
       "<div>\n",
       "<style scoped>\n",
       "    .dataframe tbody tr th:only-of-type {\n",
       "        vertical-align: middle;\n",
       "    }\n",
       "\n",
       "    .dataframe tbody tr th {\n",
       "        vertical-align: top;\n",
       "    }\n",
       "\n",
       "    .dataframe thead th {\n",
       "        text-align: right;\n",
       "    }\n",
       "</style>\n",
       "<table border=\"1\" class=\"dataframe\">\n",
       "  <thead>\n",
       "    <tr style=\"text-align: right;\">\n",
       "      <th></th>\n",
       "      <th>datetime</th>\n",
       "      <th>machineID</th>\n",
       "      <th>volt</th>\n",
       "      <th>rotate</th>\n",
       "      <th>pressure</th>\n",
       "      <th>vibration</th>\n",
       "    </tr>\n",
       "  </thead>\n",
       "  <tbody>\n",
       "    <tr>\n",
       "      <th>0</th>\n",
       "      <td>2015-01-01 06:00:00</td>\n",
       "      <td>1</td>\n",
       "      <td>176.217853</td>\n",
       "      <td>418.504078</td>\n",
       "      <td>113.077935</td>\n",
       "      <td>45.087686</td>\n",
       "    </tr>\n",
       "    <tr>\n",
       "      <th>1</th>\n",
       "      <td>2015-01-01 07:00:00</td>\n",
       "      <td>1</td>\n",
       "      <td>162.879223</td>\n",
       "      <td>402.747490</td>\n",
       "      <td>95.460525</td>\n",
       "      <td>43.413973</td>\n",
       "    </tr>\n",
       "    <tr>\n",
       "      <th>2</th>\n",
       "      <td>2015-01-01 08:00:00</td>\n",
       "      <td>1</td>\n",
       "      <td>170.989902</td>\n",
       "      <td>527.349825</td>\n",
       "      <td>75.237905</td>\n",
       "      <td>34.178847</td>\n",
       "    </tr>\n",
       "    <tr>\n",
       "      <th>3</th>\n",
       "      <td>2015-01-01 09:00:00</td>\n",
       "      <td>1</td>\n",
       "      <td>162.462833</td>\n",
       "      <td>346.149335</td>\n",
       "      <td>109.248561</td>\n",
       "      <td>41.122144</td>\n",
       "    </tr>\n",
       "    <tr>\n",
       "      <th>4</th>\n",
       "      <td>2015-01-01 10:00:00</td>\n",
       "      <td>1</td>\n",
       "      <td>157.610021</td>\n",
       "      <td>435.376873</td>\n",
       "      <td>111.886648</td>\n",
       "      <td>25.990511</td>\n",
       "    </tr>\n",
       "  </tbody>\n",
       "</table>\n",
       "</div>"
      ],
      "text/plain": [
       "              datetime  machineID        volt      rotate    pressure  \\\n",
       "0  2015-01-01 06:00:00          1  176.217853  418.504078  113.077935   \n",
       "1  2015-01-01 07:00:00          1  162.879223  402.747490   95.460525   \n",
       "2  2015-01-01 08:00:00          1  170.989902  527.349825   75.237905   \n",
       "3  2015-01-01 09:00:00          1  162.462833  346.149335  109.248561   \n",
       "4  2015-01-01 10:00:00          1  157.610021  435.376873  111.886648   \n",
       "\n",
       "   vibration  \n",
       "0  45.087686  \n",
       "1  43.413973  \n",
       "2  34.178847  \n",
       "3  41.122144  \n",
       "4  25.990511  "
      ]
     },
     "execution_count": 4,
     "metadata": {},
     "output_type": "execute_result"
    }
   ],
   "source": [
    "telemetry.head()"
   ]
  },
  {
   "cell_type": "code",
   "execution_count": 5,
   "metadata": {},
   "outputs": [
    {
     "data": {
      "text/html": [
       "<div>\n",
       "<style scoped>\n",
       "    .dataframe tbody tr th:only-of-type {\n",
       "        vertical-align: middle;\n",
       "    }\n",
       "\n",
       "    .dataframe tbody tr th {\n",
       "        vertical-align: top;\n",
       "    }\n",
       "\n",
       "    .dataframe thead th {\n",
       "        text-align: right;\n",
       "    }\n",
       "</style>\n",
       "<table border=\"1\" class=\"dataframe\">\n",
       "  <thead>\n",
       "    <tr style=\"text-align: right;\">\n",
       "      <th></th>\n",
       "      <th>datetime</th>\n",
       "      <th>machineID</th>\n",
       "      <th>volt</th>\n",
       "      <th>rotate</th>\n",
       "      <th>pressure</th>\n",
       "      <th>vibration</th>\n",
       "    </tr>\n",
       "  </thead>\n",
       "  <tbody>\n",
       "    <tr>\n",
       "      <th>876095</th>\n",
       "      <td>2016-01-01 02:00:00</td>\n",
       "      <td>100</td>\n",
       "      <td>179.438162</td>\n",
       "      <td>395.222827</td>\n",
       "      <td>102.290715</td>\n",
       "      <td>50.771941</td>\n",
       "    </tr>\n",
       "    <tr>\n",
       "      <th>876096</th>\n",
       "      <td>2016-01-01 03:00:00</td>\n",
       "      <td>100</td>\n",
       "      <td>189.617555</td>\n",
       "      <td>446.207972</td>\n",
       "      <td>98.180607</td>\n",
       "      <td>35.123072</td>\n",
       "    </tr>\n",
       "    <tr>\n",
       "      <th>876097</th>\n",
       "      <td>2016-01-01 04:00:00</td>\n",
       "      <td>100</td>\n",
       "      <td>192.483414</td>\n",
       "      <td>447.816524</td>\n",
       "      <td>94.132837</td>\n",
       "      <td>48.314561</td>\n",
       "    </tr>\n",
       "    <tr>\n",
       "      <th>876098</th>\n",
       "      <td>2016-01-01 05:00:00</td>\n",
       "      <td>100</td>\n",
       "      <td>165.475310</td>\n",
       "      <td>413.771670</td>\n",
       "      <td>104.081073</td>\n",
       "      <td>44.835259</td>\n",
       "    </tr>\n",
       "    <tr>\n",
       "      <th>876099</th>\n",
       "      <td>2016-01-01 06:00:00</td>\n",
       "      <td>100</td>\n",
       "      <td>171.336037</td>\n",
       "      <td>496.096870</td>\n",
       "      <td>79.095538</td>\n",
       "      <td>37.845245</td>\n",
       "    </tr>\n",
       "  </tbody>\n",
       "</table>\n",
       "</div>"
      ],
      "text/plain": [
       "                   datetime  machineID        volt      rotate    pressure  \\\n",
       "876095  2016-01-01 02:00:00        100  179.438162  395.222827  102.290715   \n",
       "876096  2016-01-01 03:00:00        100  189.617555  446.207972   98.180607   \n",
       "876097  2016-01-01 04:00:00        100  192.483414  447.816524   94.132837   \n",
       "876098  2016-01-01 05:00:00        100  165.475310  413.771670  104.081073   \n",
       "876099  2016-01-01 06:00:00        100  171.336037  496.096870   79.095538   \n",
       "\n",
       "        vibration  \n",
       "876095  50.771941  \n",
       "876096  35.123072  \n",
       "876097  48.314561  \n",
       "876098  44.835259  \n",
       "876099  37.845245  "
      ]
     },
     "execution_count": 5,
     "metadata": {},
     "output_type": "execute_result"
    }
   ],
   "source": [
    "telemetry.tail()"
   ]
  },
  {
   "cell_type": "code",
   "execution_count": 6,
   "metadata": {},
   "outputs": [
    {
     "name": "stdout",
     "output_type": "stream",
     "text": [
      "<class 'pandas.core.frame.DataFrame'>\n",
      "RangeIndex: 876100 entries, 0 to 876099\n",
      "Data columns (total 6 columns):\n",
      " #   Column     Non-Null Count   Dtype  \n",
      "---  ------     --------------   -----  \n",
      " 0   datetime   876100 non-null  object \n",
      " 1   machineID  876100 non-null  int64  \n",
      " 2   volt       876100 non-null  float64\n",
      " 3   rotate     876100 non-null  float64\n",
      " 4   pressure   876100 non-null  float64\n",
      " 5   vibration  876100 non-null  float64\n",
      "dtypes: float64(4), int64(1), object(1)\n",
      "memory usage: 40.1+ MB\n"
     ]
    }
   ],
   "source": [
    "telemetry.info()"
   ]
  },
  {
   "cell_type": "code",
   "execution_count": 7,
   "metadata": {},
   "outputs": [
    {
     "data": {
      "text/plain": [
       "datetime      object\n",
       "machineID      int64\n",
       "volt         float64\n",
       "rotate       float64\n",
       "pressure     float64\n",
       "vibration    float64\n",
       "dtype: object"
      ]
     },
     "execution_count": 7,
     "metadata": {},
     "output_type": "execute_result"
    }
   ],
   "source": [
    "telemetry.dtypes"
   ]
  },
  {
   "cell_type": "code",
   "execution_count": 8,
   "metadata": {},
   "outputs": [
    {
     "data": {
      "text/plain": [
       "100"
      ]
     },
     "execution_count": 8,
     "metadata": {},
     "output_type": "execute_result"
    }
   ],
   "source": [
    "telemetry[\"machineID\"].nunique()"
   ]
  },
  {
   "cell_type": "code",
   "execution_count": 9,
   "metadata": {},
   "outputs": [
    {
     "data": {
      "text/html": [
       "<div>\n",
       "<style scoped>\n",
       "    .dataframe tbody tr th:only-of-type {\n",
       "        vertical-align: middle;\n",
       "    }\n",
       "\n",
       "    .dataframe tbody tr th {\n",
       "        vertical-align: top;\n",
       "    }\n",
       "\n",
       "    .dataframe thead th {\n",
       "        text-align: right;\n",
       "    }\n",
       "</style>\n",
       "<table border=\"1\" class=\"dataframe\">\n",
       "  <thead>\n",
       "    <tr style=\"text-align: right;\">\n",
       "      <th></th>\n",
       "      <th>datetime</th>\n",
       "      <th>machineID</th>\n",
       "      <th>volt</th>\n",
       "      <th>rotate</th>\n",
       "      <th>pressure</th>\n",
       "      <th>vibration</th>\n",
       "    </tr>\n",
       "  </thead>\n",
       "  <tbody>\n",
       "    <tr>\n",
       "      <th>0</th>\n",
       "      <td>2015-01-01 06:00:00</td>\n",
       "      <td>1</td>\n",
       "      <td>176.217853</td>\n",
       "      <td>418.504078</td>\n",
       "      <td>113.077935</td>\n",
       "      <td>45.087686</td>\n",
       "    </tr>\n",
       "    <tr>\n",
       "      <th>1</th>\n",
       "      <td>2015-01-01 07:00:00</td>\n",
       "      <td>1</td>\n",
       "      <td>162.879223</td>\n",
       "      <td>402.747490</td>\n",
       "      <td>95.460525</td>\n",
       "      <td>43.413973</td>\n",
       "    </tr>\n",
       "    <tr>\n",
       "      <th>2</th>\n",
       "      <td>2015-01-01 08:00:00</td>\n",
       "      <td>1</td>\n",
       "      <td>170.989902</td>\n",
       "      <td>527.349825</td>\n",
       "      <td>75.237905</td>\n",
       "      <td>34.178847</td>\n",
       "    </tr>\n",
       "    <tr>\n",
       "      <th>3</th>\n",
       "      <td>2015-01-01 09:00:00</td>\n",
       "      <td>1</td>\n",
       "      <td>162.462833</td>\n",
       "      <td>346.149335</td>\n",
       "      <td>109.248561</td>\n",
       "      <td>41.122144</td>\n",
       "    </tr>\n",
       "    <tr>\n",
       "      <th>4</th>\n",
       "      <td>2015-01-01 10:00:00</td>\n",
       "      <td>1</td>\n",
       "      <td>157.610021</td>\n",
       "      <td>435.376873</td>\n",
       "      <td>111.886648</td>\n",
       "      <td>25.990511</td>\n",
       "    </tr>\n",
       "  </tbody>\n",
       "</table>\n",
       "</div>"
      ],
      "text/plain": [
       "             datetime  machineID        volt      rotate    pressure  \\\n",
       "0 2015-01-01 06:00:00          1  176.217853  418.504078  113.077935   \n",
       "1 2015-01-01 07:00:00          1  162.879223  402.747490   95.460525   \n",
       "2 2015-01-01 08:00:00          1  170.989902  527.349825   75.237905   \n",
       "3 2015-01-01 09:00:00          1  162.462833  346.149335  109.248561   \n",
       "4 2015-01-01 10:00:00          1  157.610021  435.376873  111.886648   \n",
       "\n",
       "   vibration  \n",
       "0  45.087686  \n",
       "1  43.413973  \n",
       "2  34.178847  \n",
       "3  41.122144  \n",
       "4  25.990511  "
      ]
     },
     "execution_count": 9,
     "metadata": {},
     "output_type": "execute_result"
    }
   ],
   "source": [
    "# Trocamos o formato de datetime já que vem como string.\n",
    "telemetry[\"datetime\"] = pd.to_datetime(telemetry[\"datetime\"], format=\"%Y-%m-%d %H:%M:%S\")\n",
    "telemetry.head()"
   ]
  },
  {
   "cell_type": "code",
   "execution_count": 10,
   "metadata": {},
   "outputs": [
    {
     "data": {
      "text/plain": [
       "datetime     datetime64[ns]\n",
       "machineID             int64\n",
       "volt                float64\n",
       "rotate              float64\n",
       "pressure            float64\n",
       "vibration           float64\n",
       "dtype: object"
      ]
     },
     "execution_count": 10,
     "metadata": {},
     "output_type": "execute_result"
    }
   ],
   "source": [
    "# A dtype de esta serie é objeto porque tem tipos misturados\n",
    "telemetry.dtypes"
   ]
  },
  {
   "cell_type": "code",
   "execution_count": 11,
   "metadata": {},
   "outputs": [
    {
     "data": {
      "image/png": "[encoded data removed]",
      "text/plain": [
       "<Figure size 432x288 with 1 Axes>"
      ]
     },
     "metadata": {},
     "output_type": "display_data"
    }
   ],
   "source": [
    "telemetry[\"pressure\"].plot(kind=\"kde\")\n",
    "plt.title(\"Distribuição do Pressão\")\n",
    "plt.ylabel(\"Densidade\")\n",
    "plt.xlabel(\"Pressão\")\n",
    "plt.show()"
   ]
  },
  {
   "cell_type": "code",
   "execution_count": 12,
   "metadata": {},
   "outputs": [
    {
     "data": {
      "text/html": [
       "<div>\n",
       "<style scoped>\n",
       "    .dataframe tbody tr th:only-of-type {\n",
       "        vertical-align: middle;\n",
       "    }\n",
       "\n",
       "    .dataframe tbody tr th {\n",
       "        vertical-align: top;\n",
       "    }\n",
       "\n",
       "    .dataframe thead th {\n",
       "        text-align: right;\n",
       "    }\n",
       "</style>\n",
       "<table border=\"1\" class=\"dataframe\">\n",
       "  <thead>\n",
       "    <tr style=\"text-align: right;\">\n",
       "      <th></th>\n",
       "      <th>machineID</th>\n",
       "      <th>volt</th>\n",
       "      <th>rotate</th>\n",
       "      <th>pressure</th>\n",
       "      <th>vibration</th>\n",
       "    </tr>\n",
       "  </thead>\n",
       "  <tbody>\n",
       "    <tr>\n",
       "      <th>count</th>\n",
       "      <td>876100.000000</td>\n",
       "      <td>876100.000000</td>\n",
       "      <td>876100.000000</td>\n",
       "      <td>876100.000000</td>\n",
       "      <td>876100.000000</td>\n",
       "    </tr>\n",
       "    <tr>\n",
       "      <th>mean</th>\n",
       "      <td>50.500000</td>\n",
       "      <td>170.777736</td>\n",
       "      <td>446.605119</td>\n",
       "      <td>100.858668</td>\n",
       "      <td>40.385007</td>\n",
       "    </tr>\n",
       "    <tr>\n",
       "      <th>std</th>\n",
       "      <td>28.866087</td>\n",
       "      <td>15.509114</td>\n",
       "      <td>52.673886</td>\n",
       "      <td>11.048679</td>\n",
       "      <td>5.370361</td>\n",
       "    </tr>\n",
       "    <tr>\n",
       "      <th>min</th>\n",
       "      <td>1.000000</td>\n",
       "      <td>97.333604</td>\n",
       "      <td>138.432075</td>\n",
       "      <td>51.237106</td>\n",
       "      <td>14.877054</td>\n",
       "    </tr>\n",
       "    <tr>\n",
       "      <th>25%</th>\n",
       "      <td>25.750000</td>\n",
       "      <td>160.304927</td>\n",
       "      <td>412.305714</td>\n",
       "      <td>93.498181</td>\n",
       "      <td>36.777299</td>\n",
       "    </tr>\n",
       "    <tr>\n",
       "      <th>50%</th>\n",
       "      <td>50.500000</td>\n",
       "      <td>170.607338</td>\n",
       "      <td>447.558150</td>\n",
       "      <td>100.425559</td>\n",
       "      <td>40.237247</td>\n",
       "    </tr>\n",
       "    <tr>\n",
       "      <th>75%</th>\n",
       "      <td>75.250000</td>\n",
       "      <td>181.004493</td>\n",
       "      <td>482.176600</td>\n",
       "      <td>107.555231</td>\n",
       "      <td>43.784938</td>\n",
       "    </tr>\n",
       "    <tr>\n",
       "      <th>max</th>\n",
       "      <td>100.000000</td>\n",
       "      <td>255.124717</td>\n",
       "      <td>695.020984</td>\n",
       "      <td>185.951998</td>\n",
       "      <td>76.791072</td>\n",
       "    </tr>\n",
       "  </tbody>\n",
       "</table>\n",
       "</div>"
      ],
      "text/plain": [
       "           machineID           volt         rotate       pressure  \\\n",
       "count  876100.000000  876100.000000  876100.000000  876100.000000   \n",
       "mean       50.500000     170.777736     446.605119     100.858668   \n",
       "std        28.866087      15.509114      52.673886      11.048679   \n",
       "min         1.000000      97.333604     138.432075      51.237106   \n",
       "25%        25.750000     160.304927     412.305714      93.498181   \n",
       "50%        50.500000     170.607338     447.558150     100.425559   \n",
       "75%        75.250000     181.004493     482.176600     107.555231   \n",
       "max       100.000000     255.124717     695.020984     185.951998   \n",
       "\n",
       "           vibration  \n",
       "count  876100.000000  \n",
       "mean       40.385007  \n",
       "std         5.370361  \n",
       "min        14.877054  \n",
       "25%        36.777299  \n",
       "50%        40.237247  \n",
       "75%        43.784938  \n",
       "max        76.791072  "
      ]
     },
     "execution_count": 12,
     "metadata": {},
     "output_type": "execute_result"
    }
   ],
   "source": [
    "# Confirmamos integridade; total, média, desvio padrão, mínimo, máximo, e quantil.\n",
    "telemetry.describe()"
   ]
  },
  {
   "cell_type": "code",
   "execution_count": 13,
   "metadata": {},
   "outputs": [
    {
     "data": {
      "image/png": "[encoded data removed]",
      "text/plain": [
       "<Figure size 864x432 with 1 Axes>"
      ]
     },
     "metadata": {},
     "output_type": "display_data"
    }
   ],
   "source": [
    "# Mostramos um gráfico de exemplo dos valores de voltagem para a máquina 1 durante os primeros 6 meses de 2015.\n",
    "\n",
    "plot_df = telemetry.loc[\n",
    "    (telemetry[\"machineID\"] == 1)\n",
    "    & (telemetry[\"datetime\"] > pd.to_datetime(\"2015-01-01\"))\n",
    "    & (telemetry[\"datetime\"] < pd.to_datetime(\"2016-12-01\")), [\"datetime\", \"volt\"]\n",
    "]\n",
    "\n",
    "plt.figure(figsize=(12, 6))\n",
    "plt.plot(plot_df[\"datetime\"], plot_df[\"volt\"])\n",
    "plt.title(\"Variação de Tensão na Máquina 1\")\n",
    "plt.ylabel(\"Tensão [V]\")\n",
    "\n",
    "# Fazemos legível as etiquetas.\n",
    "adf = plt.gca().get_xaxis().get_major_formatter()\n",
    "adf.scaled[1.0] = \"%m-%d\"\n",
    "plt.xlabel(\"Tempo [Meses]\")\n",
    "plt.show()"
   ]
  },
  {
   "cell_type": "code",
   "execution_count": 14,
   "metadata": {},
   "outputs": [
    {
     "data": {
      "text/html": [
       "<div>\n",
       "<style scoped>\n",
       "    .dataframe tbody tr th:only-of-type {\n",
       "        vertical-align: middle;\n",
       "    }\n",
       "\n",
       "    .dataframe tbody tr th {\n",
       "        vertical-align: top;\n",
       "    }\n",
       "\n",
       "    .dataframe thead th {\n",
       "        text-align: right;\n",
       "    }\n",
       "</style>\n",
       "<table border=\"1\" class=\"dataframe\">\n",
       "  <thead>\n",
       "    <tr style=\"text-align: right;\">\n",
       "      <th></th>\n",
       "      <th>datetime</th>\n",
       "      <th>machineID</th>\n",
       "      <th>errorID</th>\n",
       "    </tr>\n",
       "  </thead>\n",
       "  <tbody>\n",
       "    <tr>\n",
       "      <th>0</th>\n",
       "      <td>2015-01-03 07:00:00</td>\n",
       "      <td>1</td>\n",
       "      <td>error1</td>\n",
       "    </tr>\n",
       "    <tr>\n",
       "      <th>1</th>\n",
       "      <td>2015-01-03 20:00:00</td>\n",
       "      <td>1</td>\n",
       "      <td>error3</td>\n",
       "    </tr>\n",
       "    <tr>\n",
       "      <th>2</th>\n",
       "      <td>2015-01-04 06:00:00</td>\n",
       "      <td>1</td>\n",
       "      <td>error5</td>\n",
       "    </tr>\n",
       "    <tr>\n",
       "      <th>3</th>\n",
       "      <td>2015-01-10 15:00:00</td>\n",
       "      <td>1</td>\n",
       "      <td>error4</td>\n",
       "    </tr>\n",
       "    <tr>\n",
       "      <th>4</th>\n",
       "      <td>2015-01-22 10:00:00</td>\n",
       "      <td>1</td>\n",
       "      <td>error4</td>\n",
       "    </tr>\n",
       "  </tbody>\n",
       "</table>\n",
       "</div>"
      ],
      "text/plain": [
       "              datetime  machineID errorID\n",
       "0  2015-01-03 07:00:00          1  error1\n",
       "1  2015-01-03 20:00:00          1  error3\n",
       "2  2015-01-04 06:00:00          1  error5\n",
       "3  2015-01-10 15:00:00          1  error4\n",
       "4  2015-01-22 10:00:00          1  error4"
      ]
     },
     "execution_count": 14,
     "metadata": {},
     "output_type": "execute_result"
    }
   ],
   "source": [
    "errors.head()"
   ]
  },
  {
   "cell_type": "code",
   "execution_count": 15,
   "metadata": {},
   "outputs": [
    {
     "data": {
      "text/html": [
       "<div>\n",
       "<style scoped>\n",
       "    .dataframe tbody tr th:only-of-type {\n",
       "        vertical-align: middle;\n",
       "    }\n",
       "\n",
       "    .dataframe tbody tr th {\n",
       "        vertical-align: top;\n",
       "    }\n",
       "\n",
       "    .dataframe thead th {\n",
       "        text-align: right;\n",
       "    }\n",
       "</style>\n",
       "<table border=\"1\" class=\"dataframe\">\n",
       "  <thead>\n",
       "    <tr style=\"text-align: right;\">\n",
       "      <th></th>\n",
       "      <th>datetime</th>\n",
       "      <th>machineID</th>\n",
       "      <th>errorID</th>\n",
       "    </tr>\n",
       "  </thead>\n",
       "  <tbody>\n",
       "    <tr>\n",
       "      <th>3914</th>\n",
       "      <td>2015-11-21 08:00:00</td>\n",
       "      <td>100</td>\n",
       "      <td>error2</td>\n",
       "    </tr>\n",
       "    <tr>\n",
       "      <th>3915</th>\n",
       "      <td>2015-12-04 02:00:00</td>\n",
       "      <td>100</td>\n",
       "      <td>error1</td>\n",
       "    </tr>\n",
       "    <tr>\n",
       "      <th>3916</th>\n",
       "      <td>2015-12-08 06:00:00</td>\n",
       "      <td>100</td>\n",
       "      <td>error2</td>\n",
       "    </tr>\n",
       "    <tr>\n",
       "      <th>3917</th>\n",
       "      <td>2015-12-08 06:00:00</td>\n",
       "      <td>100</td>\n",
       "      <td>error3</td>\n",
       "    </tr>\n",
       "    <tr>\n",
       "      <th>3918</th>\n",
       "      <td>2015-12-22 03:00:00</td>\n",
       "      <td>100</td>\n",
       "      <td>error3</td>\n",
       "    </tr>\n",
       "  </tbody>\n",
       "</table>\n",
       "</div>"
      ],
      "text/plain": [
       "                 datetime  machineID errorID\n",
       "3914  2015-11-21 08:00:00        100  error2\n",
       "3915  2015-12-04 02:00:00        100  error1\n",
       "3916  2015-12-08 06:00:00        100  error2\n",
       "3917  2015-12-08 06:00:00        100  error3\n",
       "3918  2015-12-22 03:00:00        100  error3"
      ]
     },
     "execution_count": 15,
     "metadata": {},
     "output_type": "execute_result"
    }
   ],
   "source": [
    "errors.tail()"
   ]
  },
  {
   "cell_type": "code",
   "execution_count": 16,
   "metadata": {
    "scrolled": false
   },
   "outputs": [
    {
     "name": "stdout",
     "output_type": "stream",
     "text": [
      "<class 'pandas.core.frame.DataFrame'>\n",
      "RangeIndex: 3919 entries, 0 to 3918\n",
      "Data columns (total 3 columns):\n",
      " #   Column     Non-Null Count  Dtype \n",
      "---  ------     --------------  ----- \n",
      " 0   datetime   3919 non-null   object\n",
      " 1   machineID  3919 non-null   int64 \n",
      " 2   errorID    3919 non-null   object\n",
      "dtypes: int64(1), object(2)\n",
      "memory usage: 92.0+ KB\n"
     ]
    }
   ],
   "source": [
    "errors.info()"
   ]
  },
  {
   "cell_type": "code",
   "execution_count": 17,
   "metadata": {},
   "outputs": [
    {
     "data": {
      "text/html": [
       "<div>\n",
       "<style scoped>\n",
       "    .dataframe tbody tr th:only-of-type {\n",
       "        vertical-align: middle;\n",
       "    }\n",
       "\n",
       "    .dataframe tbody tr th {\n",
       "        vertical-align: top;\n",
       "    }\n",
       "\n",
       "    .dataframe thead th {\n",
       "        text-align: right;\n",
       "    }\n",
       "</style>\n",
       "<table border=\"1\" class=\"dataframe\">\n",
       "  <thead>\n",
       "    <tr style=\"text-align: right;\">\n",
       "      <th></th>\n",
       "      <th>datetime</th>\n",
       "      <th>machineID</th>\n",
       "      <th>errorID</th>\n",
       "    </tr>\n",
       "  </thead>\n",
       "  <tbody>\n",
       "    <tr>\n",
       "      <th>0</th>\n",
       "      <td>2015-01-03 07:00:00</td>\n",
       "      <td>1</td>\n",
       "      <td>error1</td>\n",
       "    </tr>\n",
       "    <tr>\n",
       "      <th>1</th>\n",
       "      <td>2015-01-03 20:00:00</td>\n",
       "      <td>1</td>\n",
       "      <td>error3</td>\n",
       "    </tr>\n",
       "    <tr>\n",
       "      <th>2</th>\n",
       "      <td>2015-01-04 06:00:00</td>\n",
       "      <td>1</td>\n",
       "      <td>error5</td>\n",
       "    </tr>\n",
       "    <tr>\n",
       "      <th>3</th>\n",
       "      <td>2015-01-10 15:00:00</td>\n",
       "      <td>1</td>\n",
       "      <td>error4</td>\n",
       "    </tr>\n",
       "    <tr>\n",
       "      <th>4</th>\n",
       "      <td>2015-01-22 10:00:00</td>\n",
       "      <td>1</td>\n",
       "      <td>error4</td>\n",
       "    </tr>\n",
       "  </tbody>\n",
       "</table>\n",
       "</div>"
      ],
      "text/plain": [
       "             datetime  machineID errorID\n",
       "0 2015-01-03 07:00:00          1  error1\n",
       "1 2015-01-03 20:00:00          1  error3\n",
       "2 2015-01-04 06:00:00          1  error5\n",
       "3 2015-01-10 15:00:00          1  error4\n",
       "4 2015-01-22 10:00:00          1  error4"
      ]
     },
     "execution_count": 17,
     "metadata": {},
     "output_type": "execute_result"
    }
   ],
   "source": [
    "# Formatando o campo de data e hora que vem como uma string.\n",
    "# As categorias permiten a comparação entre valores, ordenamento automático, graficado mais simples e outras funções.\n",
    "# Também menos memoria (similar a \"factor\" em R).\n",
    "errors[\"datetime\"] = pd.to_datetime(errors[\"datetime\"], format=\"%Y-%m-%d %H:%M:%S\")\n",
    "errors[\"errorID\"] = errors[\"errorID\"].astype(\"category\")\n",
    "\n",
    "errors.head()"
   ]
  },
  {
   "cell_type": "code",
   "execution_count": 18,
   "metadata": {},
   "outputs": [
    {
     "data": {
      "image/png": "[encoded data removed]",
      "text/plain": [
       "<Figure size 576x288 with 1 Axes>"
      ]
     },
     "metadata": {},
     "output_type": "display_data"
    }
   ],
   "source": [
    "sns.set_style(\"darkgrid\")\n",
    "plt.figure(figsize=(8, 4))\n",
    "errors[\"errorID\"].value_counts().plot(kind=\"bar\", rot=0)\n",
    "plt.title(\"Distribuição dos tipos de erros\")\n",
    "plt.ylabel(\"Quantidade\")\n",
    "plt.xlabel(\"Tipo de Erro\")\n",
    "plt.show()"
   ]
  },
  {
   "cell_type": "code",
   "execution_count": 19,
   "metadata": {},
   "outputs": [
    {
     "data": {
      "text/html": [
       "<div>\n",
       "<style scoped>\n",
       "    .dataframe tbody tr th:only-of-type {\n",
       "        vertical-align: middle;\n",
       "    }\n",
       "\n",
       "    .dataframe tbody tr th {\n",
       "        vertical-align: top;\n",
       "    }\n",
       "\n",
       "    .dataframe thead th {\n",
       "        text-align: right;\n",
       "    }\n",
       "</style>\n",
       "<table border=\"1\" class=\"dataframe\">\n",
       "  <thead>\n",
       "    <tr style=\"text-align: right;\">\n",
       "      <th></th>\n",
       "      <th>datetime</th>\n",
       "      <th>machineID</th>\n",
       "      <th>comp</th>\n",
       "    </tr>\n",
       "  </thead>\n",
       "  <tbody>\n",
       "    <tr>\n",
       "      <th>0</th>\n",
       "      <td>2014-06-01 06:00:00</td>\n",
       "      <td>1</td>\n",
       "      <td>comp2</td>\n",
       "    </tr>\n",
       "    <tr>\n",
       "      <th>1</th>\n",
       "      <td>2014-07-16 06:00:00</td>\n",
       "      <td>1</td>\n",
       "      <td>comp4</td>\n",
       "    </tr>\n",
       "    <tr>\n",
       "      <th>2</th>\n",
       "      <td>2014-07-31 06:00:00</td>\n",
       "      <td>1</td>\n",
       "      <td>comp3</td>\n",
       "    </tr>\n",
       "    <tr>\n",
       "      <th>3</th>\n",
       "      <td>2014-12-13 06:00:00</td>\n",
       "      <td>1</td>\n",
       "      <td>comp1</td>\n",
       "    </tr>\n",
       "    <tr>\n",
       "      <th>4</th>\n",
       "      <td>2015-01-05 06:00:00</td>\n",
       "      <td>1</td>\n",
       "      <td>comp4</td>\n",
       "    </tr>\n",
       "  </tbody>\n",
       "</table>\n",
       "</div>"
      ],
      "text/plain": [
       "              datetime  machineID   comp\n",
       "0  2014-06-01 06:00:00          1  comp2\n",
       "1  2014-07-16 06:00:00          1  comp4\n",
       "2  2014-07-31 06:00:00          1  comp3\n",
       "3  2014-12-13 06:00:00          1  comp1\n",
       "4  2015-01-05 06:00:00          1  comp4"
      ]
     },
     "execution_count": 19,
     "metadata": {},
     "output_type": "execute_result"
    }
   ],
   "source": [
    "maint.head()"
   ]
  },
  {
   "cell_type": "code",
   "execution_count": 20,
   "metadata": {},
   "outputs": [
    {
     "data": {
      "text/html": [
       "<div>\n",
       "<style scoped>\n",
       "    .dataframe tbody tr th:only-of-type {\n",
       "        vertical-align: middle;\n",
       "    }\n",
       "\n",
       "    .dataframe tbody tr th {\n",
       "        vertical-align: top;\n",
       "    }\n",
       "\n",
       "    .dataframe thead th {\n",
       "        text-align: right;\n",
       "    }\n",
       "</style>\n",
       "<table border=\"1\" class=\"dataframe\">\n",
       "  <thead>\n",
       "    <tr style=\"text-align: right;\">\n",
       "      <th></th>\n",
       "      <th>datetime</th>\n",
       "      <th>machineID</th>\n",
       "      <th>comp</th>\n",
       "    </tr>\n",
       "  </thead>\n",
       "  <tbody>\n",
       "    <tr>\n",
       "      <th>3281</th>\n",
       "      <td>2015-10-10 06:00:00</td>\n",
       "      <td>100</td>\n",
       "      <td>comp3</td>\n",
       "    </tr>\n",
       "    <tr>\n",
       "      <th>3282</th>\n",
       "      <td>2015-10-25 06:00:00</td>\n",
       "      <td>100</td>\n",
       "      <td>comp4</td>\n",
       "    </tr>\n",
       "    <tr>\n",
       "      <th>3283</th>\n",
       "      <td>2015-11-09 06:00:00</td>\n",
       "      <td>100</td>\n",
       "      <td>comp4</td>\n",
       "    </tr>\n",
       "    <tr>\n",
       "      <th>3284</th>\n",
       "      <td>2015-12-09 06:00:00</td>\n",
       "      <td>100</td>\n",
       "      <td>comp2</td>\n",
       "    </tr>\n",
       "    <tr>\n",
       "      <th>3285</th>\n",
       "      <td>2015-12-24 06:00:00</td>\n",
       "      <td>100</td>\n",
       "      <td>comp2</td>\n",
       "    </tr>\n",
       "  </tbody>\n",
       "</table>\n",
       "</div>"
      ],
      "text/plain": [
       "                 datetime  machineID   comp\n",
       "3281  2015-10-10 06:00:00        100  comp3\n",
       "3282  2015-10-25 06:00:00        100  comp4\n",
       "3283  2015-11-09 06:00:00        100  comp4\n",
       "3284  2015-12-09 06:00:00        100  comp2\n",
       "3285  2015-12-24 06:00:00        100  comp2"
      ]
     },
     "execution_count": 20,
     "metadata": {},
     "output_type": "execute_result"
    }
   ],
   "source": [
    "maint.tail()"
   ]
  },
  {
   "cell_type": "code",
   "execution_count": 21,
   "metadata": {},
   "outputs": [
    {
     "data": {
      "text/plain": [
       "datetime     datetime64[ns]\n",
       "machineID             int64\n",
       "comp               category\n",
       "dtype: object"
      ]
     },
     "execution_count": 21,
     "metadata": {},
     "output_type": "execute_result"
    }
   ],
   "source": [
    "# Formatação do campo de data e hora que vem como string.\n",
    "maint[\"datetime\"] = pd.to_datetime(maint[\"datetime\"], format=\"%Y-%m-%d %H:%M:%S\")\n",
    "maint[\"comp\"] = maint[\"comp\"].astype(\"category\")\n",
    "maint.dtypes"
   ]
  },
  {
   "cell_type": "code",
   "execution_count": 22,
   "metadata": {},
   "outputs": [
    {
     "data": {
      "image/png": "[encoded data removed]",
      "text/plain": [
       "<Figure size 576x288 with 1 Axes>"
      ]
     },
     "metadata": {},
     "output_type": "display_data"
    }
   ],
   "source": [
    "sns.set_style(\"darkgrid\")\n",
    "plt.figure(figsize=(8, 4))\n",
    "maint[\"comp\"].value_counts().plot(kind=\"bar\", rot=0)\n",
    "plt.title(\"Distribuição dos Reparos nos componentes\")\n",
    "plt.ylabel(\"Quantidade\")\n",
    "plt.xlabel(\"Componente\")\n",
    "plt.show()"
   ]
  },
  {
   "cell_type": "code",
   "execution_count": 23,
   "metadata": {},
   "outputs": [
    {
     "data": {
      "text/html": [
       "<div>\n",
       "<style scoped>\n",
       "    .dataframe tbody tr th:only-of-type {\n",
       "        vertical-align: middle;\n",
       "    }\n",
       "\n",
       "    .dataframe tbody tr th {\n",
       "        vertical-align: top;\n",
       "    }\n",
       "\n",
       "    .dataframe thead th {\n",
       "        text-align: right;\n",
       "    }\n",
       "</style>\n",
       "<table border=\"1\" class=\"dataframe\">\n",
       "  <thead>\n",
       "    <tr style=\"text-align: right;\">\n",
       "      <th></th>\n",
       "      <th>machineID</th>\n",
       "      <th>model</th>\n",
       "      <th>age</th>\n",
       "    </tr>\n",
       "  </thead>\n",
       "  <tbody>\n",
       "    <tr>\n",
       "      <th>0</th>\n",
       "      <td>1</td>\n",
       "      <td>model3</td>\n",
       "      <td>18</td>\n",
       "    </tr>\n",
       "    <tr>\n",
       "      <th>1</th>\n",
       "      <td>2</td>\n",
       "      <td>model4</td>\n",
       "      <td>7</td>\n",
       "    </tr>\n",
       "    <tr>\n",
       "      <th>2</th>\n",
       "      <td>3</td>\n",
       "      <td>model3</td>\n",
       "      <td>8</td>\n",
       "    </tr>\n",
       "    <tr>\n",
       "      <th>3</th>\n",
       "      <td>4</td>\n",
       "      <td>model3</td>\n",
       "      <td>7</td>\n",
       "    </tr>\n",
       "    <tr>\n",
       "      <th>4</th>\n",
       "      <td>5</td>\n",
       "      <td>model3</td>\n",
       "      <td>2</td>\n",
       "    </tr>\n",
       "  </tbody>\n",
       "</table>\n",
       "</div>"
      ],
      "text/plain": [
       "   machineID   model  age\n",
       "0          1  model3   18\n",
       "1          2  model4    7\n",
       "2          3  model3    8\n",
       "3          4  model3    7\n",
       "4          5  model3    2"
      ]
     },
     "execution_count": 23,
     "metadata": {},
     "output_type": "execute_result"
    }
   ],
   "source": [
    "machines.head()"
   ]
  },
  {
   "cell_type": "code",
   "execution_count": 24,
   "metadata": {},
   "outputs": [
    {
     "data": {
      "text/html": [
       "<div>\n",
       "<style scoped>\n",
       "    .dataframe tbody tr th:only-of-type {\n",
       "        vertical-align: middle;\n",
       "    }\n",
       "\n",
       "    .dataframe tbody tr th {\n",
       "        vertical-align: top;\n",
       "    }\n",
       "\n",
       "    .dataframe thead th {\n",
       "        text-align: right;\n",
       "    }\n",
       "</style>\n",
       "<table border=\"1\" class=\"dataframe\">\n",
       "  <thead>\n",
       "    <tr style=\"text-align: right;\">\n",
       "      <th></th>\n",
       "      <th>machineID</th>\n",
       "      <th>model</th>\n",
       "      <th>age</th>\n",
       "    </tr>\n",
       "  </thead>\n",
       "  <tbody>\n",
       "    <tr>\n",
       "      <th>95</th>\n",
       "      <td>96</td>\n",
       "      <td>model2</td>\n",
       "      <td>10</td>\n",
       "    </tr>\n",
       "    <tr>\n",
       "      <th>96</th>\n",
       "      <td>97</td>\n",
       "      <td>model2</td>\n",
       "      <td>14</td>\n",
       "    </tr>\n",
       "    <tr>\n",
       "      <th>97</th>\n",
       "      <td>98</td>\n",
       "      <td>model2</td>\n",
       "      <td>20</td>\n",
       "    </tr>\n",
       "    <tr>\n",
       "      <th>98</th>\n",
       "      <td>99</td>\n",
       "      <td>model1</td>\n",
       "      <td>14</td>\n",
       "    </tr>\n",
       "    <tr>\n",
       "      <th>99</th>\n",
       "      <td>100</td>\n",
       "      <td>model4</td>\n",
       "      <td>5</td>\n",
       "    </tr>\n",
       "  </tbody>\n",
       "</table>\n",
       "</div>"
      ],
      "text/plain": [
       "    machineID   model  age\n",
       "95         96  model2   10\n",
       "96         97  model2   14\n",
       "97         98  model2   20\n",
       "98         99  model1   14\n",
       "99        100  model4    5"
      ]
     },
     "execution_count": 24,
     "metadata": {},
     "output_type": "execute_result"
    }
   ],
   "source": [
    "machines.tail()"
   ]
  },
  {
   "cell_type": "code",
   "execution_count": 25,
   "metadata": {},
   "outputs": [
    {
     "data": {
      "text/plain": [
       "(100, 3)"
      ]
     },
     "execution_count": 25,
     "metadata": {},
     "output_type": "execute_result"
    }
   ],
   "source": [
    "machines.shape"
   ]
  },
  {
   "cell_type": "code",
   "execution_count": 26,
   "metadata": {},
   "outputs": [
    {
     "data": {
      "text/plain": [
       "machineID     int64\n",
       "model        object\n",
       "age           int64\n",
       "dtype: object"
      ]
     },
     "execution_count": 26,
     "metadata": {},
     "output_type": "execute_result"
    }
   ],
   "source": [
    "machines.dtypes"
   ]
  },
  {
   "cell_type": "code",
   "execution_count": 27,
   "metadata": {},
   "outputs": [
    {
     "data": {
      "image/png": "[encoded data removed]",
      "text/plain": [
       "<Figure size 432x288 with 1 Axes>"
      ]
     },
     "metadata": {},
     "output_type": "display_data"
    }
   ],
   "source": [
    "# Revisamos se existem varias colinas já que pode sugerir dos grupos diferentes.\n",
    "machines[\"age\"].plot(kind=\"kde\")\n",
    "plt.title(\"Distribuição de Idades das Máquinas\")\n",
    "plt.xlabel(\"Idade\")\n",
    "plt.ylabel(\"Densidade\")\n",
    "plt.show()"
   ]
  },
  {
   "cell_type": "code",
   "execution_count": 28,
   "metadata": {},
   "outputs": [
    {
     "data": {
      "image/png": "[encoded data removed]",
      "text/plain": [
       "<Figure size 432x288 with 1 Axes>"
      ]
     },
     "metadata": {},
     "output_type": "display_data"
    }
   ],
   "source": [
    "# Aplicamos logaritmo natural para normalizar.\n",
    "np.log(machines[machines[\"age\"] != 0].iloc[:, 0]).plot(kind=\"kde\")\n",
    "plt.show()"
   ]
  },
  {
   "cell_type": "code",
   "execution_count": 29,
   "metadata": {},
   "outputs": [
    {
     "data": {
      "text/plain": [
       "machineID       int64\n",
       "model        category\n",
       "age             int64\n",
       "dtype: object"
      ]
     },
     "execution_count": 29,
     "metadata": {},
     "output_type": "execute_result"
    }
   ],
   "source": [
    "machines[\"model\"] = machines[\"model\"].astype(\"category\")\n",
    "machines.dtypes"
   ]
  },
  {
   "cell_type": "code",
   "execution_count": 30,
   "metadata": {},
   "outputs": [
    {
     "data": {
      "image/png": "[encoded data removed]",
      "text/plain": [
       "<Figure size 1152x576 with 1 Axes>"
      ]
     },
     "metadata": {},
     "output_type": "display_data"
    }
   ],
   "source": [
    "plt.figure(figsize=(16, 8))\n",
    "_, bins, _ = plt.hist([\n",
    "    machines.loc[machines[\"model\"] == \"model1\", \"age\"],\n",
    "    machines.loc[machines[\"model\"] == \"model2\", \"age\"],\n",
    "    machines.loc[machines[\"model\"] == \"model3\", \"age\"],\n",
    "    machines.loc[machines[\"model\"] == \"model4\", \"age\"]],\n",
    "    20, stacked=True, label=[\"Modelo 1\", \"Modelo 2\", \"Modelo 3\", \"Modelo 4\"\n",
    "])\n",
    "plt.title(\"Distribuição da idade por tipo de modelo das máquinas rotativas\")\n",
    "plt.xlabel(\"Idade [Anos]\")\n",
    "plt.ylabel(\"Quantidade de Máquinas\")\n",
    "plt.legend()\n",
    "plt.show()"
   ]
  },
  {
   "cell_type": "code",
   "execution_count": 31,
   "metadata": {},
   "outputs": [
    {
     "data": {
      "text/html": [
       "<div>\n",
       "<style scoped>\n",
       "    .dataframe tbody tr th:only-of-type {\n",
       "        vertical-align: middle;\n",
       "    }\n",
       "\n",
       "    .dataframe tbody tr th {\n",
       "        vertical-align: top;\n",
       "    }\n",
       "\n",
       "    .dataframe thead th {\n",
       "        text-align: right;\n",
       "    }\n",
       "</style>\n",
       "<table border=\"1\" class=\"dataframe\">\n",
       "  <thead>\n",
       "    <tr style=\"text-align: right;\">\n",
       "      <th></th>\n",
       "      <th>datetime</th>\n",
       "      <th>machineID</th>\n",
       "      <th>failure</th>\n",
       "    </tr>\n",
       "  </thead>\n",
       "  <tbody>\n",
       "    <tr>\n",
       "      <th>0</th>\n",
       "      <td>2015-01-05 06:00:00</td>\n",
       "      <td>1</td>\n",
       "      <td>comp4</td>\n",
       "    </tr>\n",
       "    <tr>\n",
       "      <th>1</th>\n",
       "      <td>2015-03-06 06:00:00</td>\n",
       "      <td>1</td>\n",
       "      <td>comp1</td>\n",
       "    </tr>\n",
       "    <tr>\n",
       "      <th>2</th>\n",
       "      <td>2015-04-20 06:00:00</td>\n",
       "      <td>1</td>\n",
       "      <td>comp2</td>\n",
       "    </tr>\n",
       "    <tr>\n",
       "      <th>3</th>\n",
       "      <td>2015-06-19 06:00:00</td>\n",
       "      <td>1</td>\n",
       "      <td>comp4</td>\n",
       "    </tr>\n",
       "    <tr>\n",
       "      <th>4</th>\n",
       "      <td>2015-09-02 06:00:00</td>\n",
       "      <td>1</td>\n",
       "      <td>comp4</td>\n",
       "    </tr>\n",
       "  </tbody>\n",
       "</table>\n",
       "</div>"
      ],
      "text/plain": [
       "              datetime  machineID failure\n",
       "0  2015-01-05 06:00:00          1   comp4\n",
       "1  2015-03-06 06:00:00          1   comp1\n",
       "2  2015-04-20 06:00:00          1   comp2\n",
       "3  2015-06-19 06:00:00          1   comp4\n",
       "4  2015-09-02 06:00:00          1   comp4"
      ]
     },
     "execution_count": 31,
     "metadata": {},
     "output_type": "execute_result"
    }
   ],
   "source": [
    "failures.head()"
   ]
  },
  {
   "cell_type": "code",
   "execution_count": 32,
   "metadata": {},
   "outputs": [
    {
     "data": {
      "text/html": [
       "<div>\n",
       "<style scoped>\n",
       "    .dataframe tbody tr th:only-of-type {\n",
       "        vertical-align: middle;\n",
       "    }\n",
       "\n",
       "    .dataframe tbody tr th {\n",
       "        vertical-align: top;\n",
       "    }\n",
       "\n",
       "    .dataframe thead th {\n",
       "        text-align: right;\n",
       "    }\n",
       "</style>\n",
       "<table border=\"1\" class=\"dataframe\">\n",
       "  <thead>\n",
       "    <tr style=\"text-align: right;\">\n",
       "      <th></th>\n",
       "      <th>datetime</th>\n",
       "      <th>machineID</th>\n",
       "      <th>failure</th>\n",
       "    </tr>\n",
       "  </thead>\n",
       "  <tbody>\n",
       "    <tr>\n",
       "      <th>756</th>\n",
       "      <td>2015-11-29 06:00:00</td>\n",
       "      <td>99</td>\n",
       "      <td>comp3</td>\n",
       "    </tr>\n",
       "    <tr>\n",
       "      <th>757</th>\n",
       "      <td>2015-12-14 06:00:00</td>\n",
       "      <td>99</td>\n",
       "      <td>comp4</td>\n",
       "    </tr>\n",
       "    <tr>\n",
       "      <th>758</th>\n",
       "      <td>2015-02-12 06:00:00</td>\n",
       "      <td>100</td>\n",
       "      <td>comp1</td>\n",
       "    </tr>\n",
       "    <tr>\n",
       "      <th>759</th>\n",
       "      <td>2015-09-10 06:00:00</td>\n",
       "      <td>100</td>\n",
       "      <td>comp1</td>\n",
       "    </tr>\n",
       "    <tr>\n",
       "      <th>760</th>\n",
       "      <td>2015-12-09 06:00:00</td>\n",
       "      <td>100</td>\n",
       "      <td>comp2</td>\n",
       "    </tr>\n",
       "  </tbody>\n",
       "</table>\n",
       "</div>"
      ],
      "text/plain": [
       "                datetime  machineID failure\n",
       "756  2015-11-29 06:00:00         99   comp3\n",
       "757  2015-12-14 06:00:00         99   comp4\n",
       "758  2015-02-12 06:00:00        100   comp1\n",
       "759  2015-09-10 06:00:00        100   comp1\n",
       "760  2015-12-09 06:00:00        100   comp2"
      ]
     },
     "execution_count": 32,
     "metadata": {},
     "output_type": "execute_result"
    }
   ],
   "source": [
    "failures.tail()"
   ]
  },
  {
   "cell_type": "code",
   "execution_count": 33,
   "metadata": {},
   "outputs": [
    {
     "data": {
      "text/plain": [
       "datetime     datetime64[ns]\n",
       "machineID             int64\n",
       "failure            category\n",
       "dtype: object"
      ]
     },
     "execution_count": 33,
     "metadata": {},
     "output_type": "execute_result"
    }
   ],
   "source": [
    "# Formatamos a datetime que vem como string\n",
    "failures[\"datetime\"] = pd.to_datetime(failures[\"datetime\"], format=\"%Y-%m-%d %H:%M:%S\")\n",
    "failures[\"failure\"] = failures[\"failure\"].astype(\"category\")\n",
    "failures.dtypes"
   ]
  },
  {
   "cell_type": "code",
   "execution_count": 34,
   "metadata": {},
   "outputs": [
    {
     "data": {
      "text/html": [
       "<div>\n",
       "<style scoped>\n",
       "    .dataframe tbody tr th:only-of-type {\n",
       "        vertical-align: middle;\n",
       "    }\n",
       "\n",
       "    .dataframe tbody tr th {\n",
       "        vertical-align: top;\n",
       "    }\n",
       "\n",
       "    .dataframe thead th {\n",
       "        text-align: right;\n",
       "    }\n",
       "</style>\n",
       "<table border=\"1\" class=\"dataframe\">\n",
       "  <thead>\n",
       "    <tr style=\"text-align: right;\">\n",
       "      <th></th>\n",
       "      <th>datetime</th>\n",
       "      <th>machineID</th>\n",
       "      <th>failure</th>\n",
       "    </tr>\n",
       "  </thead>\n",
       "  <tbody>\n",
       "    <tr>\n",
       "      <th>count</th>\n",
       "      <td>761</td>\n",
       "      <td>761.000000</td>\n",
       "      <td>761</td>\n",
       "    </tr>\n",
       "    <tr>\n",
       "      <th>unique</th>\n",
       "      <td>302</td>\n",
       "      <td>NaN</td>\n",
       "      <td>4</td>\n",
       "    </tr>\n",
       "    <tr>\n",
       "      <th>top</th>\n",
       "      <td>2015-01-02 03:00:00</td>\n",
       "      <td>NaN</td>\n",
       "      <td>comp2</td>\n",
       "    </tr>\n",
       "    <tr>\n",
       "      <th>freq</th>\n",
       "      <td>18</td>\n",
       "      <td>NaN</td>\n",
       "      <td>259</td>\n",
       "    </tr>\n",
       "    <tr>\n",
       "      <th>first</th>\n",
       "      <td>2015-01-02 03:00:00</td>\n",
       "      <td>NaN</td>\n",
       "      <td>NaN</td>\n",
       "    </tr>\n",
       "    <tr>\n",
       "      <th>last</th>\n",
       "      <td>2015-12-31 06:00:00</td>\n",
       "      <td>NaN</td>\n",
       "      <td>NaN</td>\n",
       "    </tr>\n",
       "    <tr>\n",
       "      <th>mean</th>\n",
       "      <td>NaN</td>\n",
       "      <td>51.911958</td>\n",
       "      <td>NaN</td>\n",
       "    </tr>\n",
       "    <tr>\n",
       "      <th>std</th>\n",
       "      <td>NaN</td>\n",
       "      <td>29.515542</td>\n",
       "      <td>NaN</td>\n",
       "    </tr>\n",
       "    <tr>\n",
       "      <th>min</th>\n",
       "      <td>NaN</td>\n",
       "      <td>1.000000</td>\n",
       "      <td>NaN</td>\n",
       "    </tr>\n",
       "    <tr>\n",
       "      <th>25%</th>\n",
       "      <td>NaN</td>\n",
       "      <td>24.000000</td>\n",
       "      <td>NaN</td>\n",
       "    </tr>\n",
       "    <tr>\n",
       "      <th>50%</th>\n",
       "      <td>NaN</td>\n",
       "      <td>51.000000</td>\n",
       "      <td>NaN</td>\n",
       "    </tr>\n",
       "    <tr>\n",
       "      <th>75%</th>\n",
       "      <td>NaN</td>\n",
       "      <td>79.000000</td>\n",
       "      <td>NaN</td>\n",
       "    </tr>\n",
       "    <tr>\n",
       "      <th>max</th>\n",
       "      <td>NaN</td>\n",
       "      <td>100.000000</td>\n",
       "      <td>NaN</td>\n",
       "    </tr>\n",
       "  </tbody>\n",
       "</table>\n",
       "</div>"
      ],
      "text/plain": [
       "                   datetime   machineID failure\n",
       "count                   761  761.000000     761\n",
       "unique                  302         NaN       4\n",
       "top     2015-01-02 03:00:00         NaN   comp2\n",
       "freq                     18         NaN     259\n",
       "first   2015-01-02 03:00:00         NaN     NaN\n",
       "last    2015-12-31 06:00:00         NaN     NaN\n",
       "mean                    NaN   51.911958     NaN\n",
       "std                     NaN   29.515542     NaN\n",
       "min                     NaN    1.000000     NaN\n",
       "25%                     NaN   24.000000     NaN\n",
       "50%                     NaN   51.000000     NaN\n",
       "75%                     NaN   79.000000     NaN\n",
       "max                     NaN  100.000000     NaN"
      ]
     },
     "execution_count": 34,
     "metadata": {},
     "output_type": "execute_result"
    }
   ],
   "source": [
    "failures.describe(include=\"all\")\n"
   ]
  },
  {
   "cell_type": "code",
   "execution_count": 35,
   "metadata": {},
   "outputs": [
    {
     "data": {
      "image/png": "[encoded data removed]",
      "text/plain": [
       "<Figure size 576x288 with 1 Axes>"
      ]
     },
     "metadata": {},
     "output_type": "display_data"
    }
   ],
   "source": [
    "plt.figure(figsize=(8, 4))\n",
    "failures[\"failure\"].value_counts().plot(kind=\"bar\", rot=0)\n",
    "plt.title(\"Distribuição de Falhas dos Componentes\")\n",
    "plt.ylabel(\"Quantidade\")\n",
    "plt.xlabel(\"Componentes\")\n",
    "plt.show()"
   ]
  },
  {
   "cell_type": "code",
   "execution_count": 36,
   "metadata": {},
   "outputs": [
    {
     "ename": "KeyError",
     "evalue": "'Tensão'",
     "output_type": "error",
     "traceback": [
      "\u001b[1;31m---------------------------------------------------------------------------\u001b[0m",
      "\u001b[1;31mKeyError\u001b[0m                                  Traceback (most recent call last)",
      "\u001b[1;32m<ipython-input-36-54ded2c44ef5>\u001b[0m in \u001b[0;36m<module>\u001b[1;34m\u001b[0m\n\u001b[0;32m     14\u001b[0m \u001b[1;31m# Cada dataframe em temp tem os valores do campo que lhe corresponde neste momento.\u001b[0m\u001b[1;33m\u001b[0m\u001b[1;33m\u001b[0m\u001b[1;33m\u001b[0m\u001b[0m\n\u001b[0;32m     15\u001b[0m \u001b[1;33m\u001b[0m\u001b[0m\n\u001b[1;32m---> 16\u001b[1;33m temp = [\n\u001b[0m\u001b[0;32m     17\u001b[0m     pd.pivot_table(\n\u001b[0;32m     18\u001b[0m         \u001b[0mtelemetry\u001b[0m\u001b[1;33m,\u001b[0m\u001b[1;33m\u001b[0m\u001b[1;33m\u001b[0m\u001b[0m\n",
      "\u001b[1;32m<ipython-input-36-54ded2c44ef5>\u001b[0m in \u001b[0;36m<listcomp>\u001b[1;34m(.0)\u001b[0m\n\u001b[0;32m     15\u001b[0m \u001b[1;33m\u001b[0m\u001b[0m\n\u001b[0;32m     16\u001b[0m temp = [\n\u001b[1;32m---> 17\u001b[1;33m     pd.pivot_table(\n\u001b[0m\u001b[0;32m     18\u001b[0m         \u001b[0mtelemetry\u001b[0m\u001b[1;33m,\u001b[0m\u001b[1;33m\u001b[0m\u001b[1;33m\u001b[0m\u001b[0m\n\u001b[0;32m     19\u001b[0m         \u001b[0mindex\u001b[0m\u001b[1;33m=\u001b[0m\u001b[1;34m\"datetime\"\u001b[0m\u001b[1;33m,\u001b[0m\u001b[1;33m\u001b[0m\u001b[1;33m\u001b[0m\u001b[0m\n",
      "\u001b[1;32mc:\\users\\vinícius krebs\\appdata\\local\\programs\\python\\python38\\lib\\site-packages\\pandas\\core\\reshape\\pivot.py\u001b[0m in \u001b[0;36mpivot_table\u001b[1;34m(data, values, index, columns, aggfunc, fill_value, margins, dropna, margins_name, observed)\u001b[0m\n\u001b[0;32m     86\u001b[0m         \u001b[1;32mfor\u001b[0m \u001b[0mi\u001b[0m \u001b[1;32min\u001b[0m \u001b[0mvalues\u001b[0m\u001b[1;33m:\u001b[0m\u001b[1;33m\u001b[0m\u001b[1;33m\u001b[0m\u001b[0m\n\u001b[0;32m     87\u001b[0m             \u001b[1;32mif\u001b[0m \u001b[0mi\u001b[0m \u001b[1;32mnot\u001b[0m \u001b[1;32min\u001b[0m \u001b[0mdata\u001b[0m\u001b[1;33m:\u001b[0m\u001b[1;33m\u001b[0m\u001b[1;33m\u001b[0m\u001b[0m\n\u001b[1;32m---> 88\u001b[1;33m                 \u001b[1;32mraise\u001b[0m \u001b[0mKeyError\u001b[0m\u001b[1;33m(\u001b[0m\u001b[0mi\u001b[0m\u001b[1;33m)\u001b[0m\u001b[1;33m\u001b[0m\u001b[1;33m\u001b[0m\u001b[0m\n\u001b[0m\u001b[0;32m     89\u001b[0m \u001b[1;33m\u001b[0m\u001b[0m\n\u001b[0;32m     90\u001b[0m         \u001b[0mto_filter\u001b[0m \u001b[1;33m=\u001b[0m \u001b[1;33m[\u001b[0m\u001b[1;33m]\u001b[0m\u001b[1;33m\u001b[0m\u001b[1;33m\u001b[0m\u001b[0m\n",
      "\u001b[1;31mKeyError\u001b[0m: 'Tensão'"
     ]
    }
   ],
   "source": [
    "# Calculamos valores médio para características de telemetría\n",
    "\n",
    "temp = []\n",
    "fields = [\"Tensão\", \"Rotação\", \"Pressão\", \"Vibração\"]\n",
    "\n",
    "# pivotamos porque necesitamos da datetime como índice para  que \"redimensionamento\" funcione\n",
    "# Reamostrar cria lagging\n",
    "# closed = 'right' => (6:00, 9:00] o 6:00 < x <= 9:00\n",
    "# closed='left'  => [6:00, 9:00) o 6:00 <= x < 9:00\n",
    "# Não podem ser ambos\n",
    "# unstack: devolve df ao formato original\n",
    "# temos 100 máquinas, 4 sensores = 400 colunas\n",
    "# unstack mostra um dataseries as colunas como índice e voltar serie (se tem varios índices se reacomodan).\n",
    "# Cada dataframe em temp tem os valores do campo que lhe corresponde neste momento.\n",
    "\n",
    "temp = [\n",
    "    pd.pivot_table(\n",
    "        telemetry,\n",
    "        index=\"datetime\",\n",
    "        columns=\"machineID\",\n",
    "        values=col).resample(\"3H\", closed=\"left\", label=\"right\").mean().unstack()\n",
    "    for col in fields\n",
    "]\n",
    "temp[0].head()"
   ]
  },
  {
   "cell_type": "code",
   "execution_count": null,
   "metadata": {},
   "outputs": [],
   "source": [
    "telemetry_mean_3h = pd.concat(temp, axis=1) # Unimos as series.\n",
    "telemetry_mean_3h.columns = [col + \"mean_3h\" for col in fields] # Atribuímos nomes de colunas.\n",
    "telemetry_mean_3h.reset_index(inplace=True) # Nivelamos o frame.\n",
    "telemetry_mean_3h.head()"
   ]
  },
  {
   "cell_type": "code",
   "execution_count": null,
   "metadata": {},
   "outputs": [],
   "source": [
    "# Repetimos para a desvio padrão.\n",
    "temp = [\n",
    "    pd.pivot_table(\n",
    "        telemetry,\n",
    "        index=\"datetime\",\n",
    "        columns=\"machineID\",\n",
    "        values=col).resample(\"3H\", closed=\"left\", label=\"right\").std().unstack()\n",
    "    for col in fields\n",
    "]\n",
    "temp[0].head()"
   ]
  },
  {
   "cell_type": "code",
   "execution_count": null,
   "metadata": {},
   "outputs": [],
   "source": [
    "telemetry_sd_3h = pd.concat(temp, axis=1)\n",
    "telemetry_sd_3h.columns = [i + \"sd_3h\" for i in fields]\n",
    "telemetry_sd_3h.reset_index(inplace=True)\n",
    "telemetry_sd_3h.head()"
   ]
  },
  {
   "cell_type": "code",
   "execution_count": null,
   "metadata": {},
   "outputs": [],
   "source": [
    "# Para capturar um efeito a longo prazo, as funções de lagging de 24 horas também precisam ser calculadas.\n",
    "# Criamos novos valores com médias de 24 horas, e logo selecionamos o primeiro resultado cada 3 horas.\n",
    "# Desta maneira podemos unir os resultados com as características de lagging anteriores (calculadas a 3 horas).\n",
    "\n",
    "temp = []\n",
    "fields = [\"volt\", \"rotate\", \"pressure\", \"vibration\"]\n",
    "\n",
    "temp = [\n",
    "    pd.pivot_table(\n",
    "        telemetry,\n",
    "        index=\"datetime\",\n",
    "        columns=\"machineID\",\n",
    "        values=col).rolling(window=24).mean().resample(\"3H\", closed=\"left\", label=\"right\").first().unstack()\n",
    "    for col in fields\n",
    "]\n",
    "temp[0].head()"
   ]
  },
  {
   "cell_type": "code",
   "execution_count": null,
   "metadata": {},
   "outputs": [],
   "source": [
    "telemetry_mean_24h = pd.concat(temp, axis=1)\n",
    "telemetry_mean_24h.columns = [i + \"mean_24h\" for i in fields]\n",
    "telemetry_mean_24h.reset_index(inplace=True)\n",
    "# Devido ao método da media móvel, os primeiros 23 registros são nulos; tem que eliminá-los.\n",
    "# Não ocorre ao final do frame porque rolling termina no final.\n",
    "# Terminamos com um frame de menos datos que o original de telemetría assim como o anterior de 3H.\n",
    "telemetry_mean_24h = telemetry_mean_24h.loc[-telemetry_mean_24h[\"voltmean_24h\"].isnull()]"
   ]
  },
  {
   "cell_type": "code",
   "execution_count": null,
   "metadata": {},
   "outputs": [],
   "source": [
    "telemetry_mean_24h.head()"
   ]
  },
  {
   "cell_type": "code",
   "execution_count": null,
   "metadata": {},
   "outputs": [],
   "source": [
    "# Repetimos para a desvio padrão.\n",
    "temp = []\n",
    "fields = [\"volt\", \"rotate\", \"pressure\", \"vibration\"]\n",
    "\n",
    "temp = [\n",
    "    pd.pivot_table(\n",
    "        telemetry,\n",
    "        index=\"datetime\",\n",
    "        columns=\"machineID\",\n",
    "        values=col).rolling(window=24).std().resample(\"3H\", closed=\"left\", label=\"right\").first().unstack(level=-1)\n",
    "    for col in fields\n",
    "]\n",
    "temp[0].head()"
   ]
  },
  {
   "cell_type": "code",
   "execution_count": null,
   "metadata": {},
   "outputs": [],
   "source": [
    "telemetry_sd_24h = pd.concat(temp, axis=1)\n",
    "telemetry_sd_24h.columns = [i + \"sd_24h\" for i in fields]\n",
    "telemetry_sd_24h.reset_index(inplace=True)\n",
    "telemetry_sd_24h = telemetry_sd_24h.loc[-telemetry_sd_24h[\"voltsd_24h\"].isnull()]"
   ]
  },
  {
   "cell_type": "code",
   "execution_count": null,
   "metadata": {},
   "outputs": [],
   "source": [
    "telemetry_sd_24h.head(10)"
   ]
  },
  {
   "cell_type": "code",
   "execution_count": null,
   "metadata": {},
   "outputs": [],
   "source": [
    "# Juntamos as características criadas até agora.\n",
    "# Tomamos os valores 2:6 para evitar ID e datas duplicadas.\n",
    "# axis=0 nos movemos em direção as filas, axis=1, nos movemos em direção das columnas.\n",
    "telemetry_feat = pd.concat([\n",
    "    telemetry_mean_3h,\n",
    "    telemetry_sd_3h.iloc[:, 2:6],\n",
    "    telemetry_mean_24h.iloc[:, 2:6],\n",
    "    telemetry_sd_24h.iloc[:, 2:6]], axis=1).dropna()\n",
    "telemetry_feat.head()"
   ]
  },
  {
   "cell_type": "code",
   "execution_count": null,
   "metadata": {},
   "outputs": [],
   "source": [
    "telemetry_feat.describe()"
   ]
  },
  {
   "cell_type": "code",
   "execution_count": null,
   "metadata": {},
   "outputs": [],
   "source": [
    "\"\"\"\n",
    "Começamos reformatando os dados de erro para ter uma entrada por máquina por vez\n",
    "quando pelo menos um erro ocorreu.\n",
    "Criamos uma coluna para cada tipo de erro.\n",
    "\"\"\"\n",
    "error_count = pd.get_dummies(errors) # Colocamos um 1 se o error aparece para esta máquina, 0 se for ao contrario.\n",
    "error_count.columns = [\"datetime\", \"machineID\", \"error1\", \"error2\", \"error3\", \"error4\", \"error5\"]\n",
    "error_count.head(15)"
   ]
  },
  {
   "cell_type": "code",
   "execution_count": null,
   "metadata": {},
   "outputs": [],
   "source": [
    "\"\"\"\n",
    "As datas no dataframe são repetidas, portanto, agrupamos por data.\n",
    "Combinamos erros para uma determinada máquina em um momento específico.\n",
    "Somamos caso haja vários erros do mesmo tipo ao mesmo tempo, mas não esperados.\n",
    "\"\"\"\n",
    "error_count_grouped = error_count.groupby([\"machineID\", \"datetime\"]).sum().reset_index()\n",
    "error_count_grouped.head(15)"
   ]
  },
  {
   "cell_type": "code",
   "execution_count": null,
   "metadata": {},
   "outputs": [],
   "source": [
    "\"\"\"\n",
    "Verificamos se os erros registrados existem nas máquinas disponíveis preenchidas com 0\n",
    "as não correspondências, portanto, procuramos apenas uma correspondência com datetime e machineID.\n",
    "\"\"\"\n",
    "error_count_filtered = telemetry[[\"datetime\", \"machineID\"]].merge(\n",
    "    error_count_grouped,\n",
    "    on=[\"machineID\", \"datetime\"],\n",
    "    how=\"left\"\n",
    ").fillna(0.0)\n",
    "\n",
    "error_count_filtered.head()"
   ]
  },
  {
   "cell_type": "code",
   "execution_count": null,
   "metadata": {},
   "outputs": [],
   "source": [
    "# Revisamos que nao existem anomalías.\n",
    "error_count_filtered.describe()"
   ]
  },
  {
   "cell_type": "code",
   "execution_count": null,
   "metadata": {},
   "outputs": [],
   "source": [
    "# Calculamos a quantidade total de erros para cada tipo de error durante lapsos de 24 horas. \n",
    "# Tomaremos pontos cada 3 horas.\n",
    "\n",
    "temp = []\n",
    "fields = [\n",
    "    \"error%d\" % i\n",
    "    for i in range(1,6)\n",
    "]\n",
    "\n",
    "temp = [\n",
    "    pd.pivot_table(\n",
    "        error_count_filtered,\n",
    "        index=\"datetime\",\n",
    "        columns=\"machineID\",\n",
    "        values=col).rolling(window=24).sum().resample(\"3H\", closed=\"left\", label=\"right\").first().unstack()\n",
    "    for col in fields\n",
    "]\n",
    "temp[0].head(10)"
   ]
  },
  {
   "cell_type": "code",
   "execution_count": null,
   "metadata": {},
   "outputs": [],
   "source": [
    "error_count_total = pd.concat(temp, axis=1)\n",
    "error_count_total.columns = [i + \"count\" for i in fields]\n",
    "error_count_total.reset_index(inplace=True)\n",
    "error_count_total = error_count_total.dropna()\n",
    "error_count_total.head()"
   ]
  },
  {
   "cell_type": "code",
   "execution_count": null,
   "metadata": {},
   "outputs": [],
   "source": [
    "error_count_total[\"error5count\"].unique()"
   ]
  },
  {
   "cell_type": "code",
   "execution_count": null,
   "metadata": {},
   "outputs": [],
   "source": [
    "maint.head()"
   ]
  },
  {
   "cell_type": "code",
   "execution_count": null,
   "metadata": {},
   "outputs": [],
   "source": [
    "# Criamos uma coluna para cada tipo de error\n",
    "comp_rep = pd.get_dummies(maint)\n",
    "comp_rep.columns = [\"datetime\", \"machineID\", \"comp1\", \"comp2\", \"comp3\", \"comp4\"]\n",
    "comp_rep.head()"
   ]
  },
  {
   "cell_type": "code",
   "execution_count": null,
   "metadata": {},
   "outputs": [],
   "source": [
    "# Combinamos reparação para uma certa máquina em certo momento.\n",
    "# Se nao agrupamos por data podemos ver outra perspectiva.\n",
    "# Descobrimos que componenetes falham juntos, já que agrupamos por data.\n",
    "comp_rep = comp_rep.groupby([\"machineID\", \"datetime\"]).sum().reset_index()\n",
    "comp_rep.head()"
   ]
  },
  {
   "cell_type": "code",
   "execution_count": null,
   "metadata": {},
   "outputs": [],
   "source": [
    "# Tem que agregar os tempos aonde nao houve substituições.\n",
    "comp_rep = telemetry[[\"datetime\", \"machineID\"]].merge(\n",
    "    comp_rep,\n",
    "    on=[\"datetime\", \"machineID\"],\n",
    "    how=\"outer\").fillna(0).sort_values(by=[\"machineID\", \"datetime\"]\n",
    ")\n",
    "comp_rep.head()"
   ]
  },
  {
   "cell_type": "code",
   "execution_count": null,
   "metadata": {},
   "outputs": [],
   "source": [
    "components = [\"comp1\", \"comp2\", \"comp3\", \"comp4\"]\n",
    "for comp in components:\n",
    "    # Queremos obter a data da troca de componente mais recente.\n",
    "    comp_rep.loc[comp_rep[comp] < 1, comp] = None \n",
    "    # As datas das entradas que se tem substituições.\n",
    "    comp_rep.loc[-comp_rep[comp].isnull(), comp] = comp_rep.loc[-comp_rep[comp].isnull(), \"datetime\"]\n",
    "    # Fazemos um forward-fill das datas mais recentes de uma troca de componente.\n",
    "    # Preenchemos com o último valor válido encontrado top-bottom.\n",
    "    comp_rep[comp] = pd.to_datetime(comp_rep[comp].fillna(method=\"ffill\"))\n",
    "\n",
    "# eliminamos amostras de 2014, podiam ter nulos, as manutenções começarão este ano.\n",
    "comp_rep = comp_rep.loc[comp_rep[\"datetime\"] > pd.to_datetime(\"2015-01-01\")]\n",
    "comp_rep.head(50)"
   ]
  },
  {
   "cell_type": "code",
   "execution_count": null,
   "metadata": {},
   "outputs": [],
   "source": [
    "# Nós substituímos as datas mais recentes de troca pela quantidade de dias desde a troca mais recente.\n",
    "for comp in components: comp_rep[comp] = (comp_rep[\"datetime\"] - pd.to_datetime(comp_rep[comp])) / np.timedelta64(1, \"D\")\n",
    "comp_rep.head()"
   ]
  },
  {
   "cell_type": "code",
   "execution_count": null,
   "metadata": {},
   "outputs": [],
   "source": [
    "comp_rep.describe()"
   ]
  },
  {
   "cell_type": "code",
   "execution_count": null,
   "metadata": {},
   "outputs": [],
   "source": [
    "# Finalmente unimos todas as características criadas.\n",
    "final_feat = telemetry_feat.merge(error_count_total, on=[\"datetime\", \"machineID\"], how=\"left\")\n",
    "final_feat = final_feat.merge(comp_rep, on=[\"datetime\", \"machineID\"], how=\"left\")\n",
    "final_feat = final_feat.merge(machines, on=[\"machineID\"], how=\"left\")\n",
    "final_feat.head()"
   ]
  },
  {
   "cell_type": "code",
   "execution_count": null,
   "metadata": {},
   "outputs": [],
   "source": [
    "final_feat.describe()\n"
   ]
  },
  {
   "cell_type": "code",
   "execution_count": null,
   "metadata": {},
   "outputs": [],
   "source": [
    "final_feat.head()\n"
   ]
  },
  {
   "cell_type": "code",
   "execution_count": null,
   "metadata": {},
   "outputs": [],
   "source": [
    "\"\"\"\n",
    "Estamos dizendo ao modelo que quaisquer valores semelhantes aos da janela de 24 horas\n",
    "é uma falha desse componente, por isso as máquinas se repetem.\n",
    "Usamos limite = 7 porque temos separações de 3 horas; 8 * 3 = 24 horas\n",
    "mas levamos em consideração o primeiro valor não nulo, então é 7.\n",
    "\"\"\"\n",
    "labeled_features = final_feat.merge(failures, on=[\"datetime\", \"machineID\"], how=\"left\")\n",
    "# Aplicamos um backward-fill de até 24h.\n",
    "# fillna não funciona com tipos categóricos por agora (como a nova categoria se encaixaria? talvez).\n",
    "# Passamos o object o string, aplicamos a operação, e regresamos a categoría.\n",
    "labeled_features[\"failure\"] = labeled_features[\"failure\"].astype(object).fillna(method=\"bfill\", limit=7)\n",
    "labeled_features[\"failure\"] = labeled_features[\"failure\"].fillna(\"none\")\n",
    "labeled_features[\"failure\"] = labeled_features[\"failure\"].astype(\"category\")\n",
    "labeled_features.head()"
   ]
  },
  {
   "cell_type": "code",
   "execution_count": null,
   "metadata": {},
   "outputs": [],
   "source": [
    "model_dummies = pd.get_dummies(labeled_features[\"model\"])\n",
    "labeled_features = pd.concat([labeled_features, model_dummies], axis=1)\n",
    "labeled_features.drop(\"model\", axis=1, inplace=True)\n"
   ]
  },
  {
   "cell_type": "code",
   "execution_count": null,
   "metadata": {},
   "outputs": [],
   "source": [
    "labeled_features.head()"
   ]
  },
  {
   "cell_type": "code",
   "execution_count": null,
   "metadata": {},
   "outputs": [],
   "source": [
    "# É necesario eliminar as variáveis com alta correlação (só uma), considerar > 70%.\n",
    "f, ax = plt.subplots(figsize=(10, 8))\n",
    "corr = labeled_features.corr()\n",
    "sns.heatmap(corr, mask=np.zeros_like(corr, dtype=np.bool), cmap=sns.diverging_palette(220, 10, as_cmap=True),\n",
    "            square=True, ax=ax)\n",
    "plt.title(\"Correlação Entre Variaveis\")\n",
    "plt.show()"
   ]
  },
  {
   "cell_type": "code",
   "execution_count": null,
   "metadata": {},
   "outputs": [],
   "source": [
    "# Guardamos para aplicar otimização de hiper-parámetros.\n",
    "labeled_features.to_pickle(\"final_datset.pickle\")"
   ]
  },
  {
   "cell_type": "code",
   "execution_count": null,
   "metadata": {},
   "outputs": [],
   "source": [
    "# Validação Cruzada\n",
    "# Definido tempo para dataset de Treinamento/Teste.\n",
    "threshold_dates =    [\n",
    "    pd.to_datetime(\"2015-12-30 01:00:00\"), \n",
    "    pd.to_datetime(\"2015-10-01 01:00:00\")\n",
    "                    ]"
   ]
  },
  {
   "cell_type": "code",
   "execution_count": null,
   "metadata": {},
   "outputs": [],
   "source": [
    "test_results = []\n",
    "models = []\n",
    "total = len(threshold_dates)\n",
    "\n",
    "# Divisão dos dados.\n",
    "last_train_date = threshold_dates[0]\n",
    "first_test_date = threshold_dates[1]"
   ]
  },
  {
   "cell_type": "code",
   "execution_count": null,
   "metadata": {},
   "outputs": [],
   "source": [
    "# Teste é utilizado entre 20% e 30% dos dados.\n",
    "ntraining = labeled_features.loc[labeled_features[\"datetime\"] < last_train_date]\n",
    "ntesting = labeled_features.loc[labeled_features[\"datetime\"] > first_test_date]\n",
    "print(f\"{ntraining.shape[0]} registros para treinamento.\")\n",
    "print(f\"{ntesting.shape[0]} registros para teste.\")\n",
    "print(f\"{ntesting.shape[0] / ntraining.shape[0] * 100:0.1f}% dos dados são utilizados para teste.\")"
   ]
  },
  {
   "cell_type": "code",
   "execution_count": null,
   "metadata": {},
   "outputs": [],
   "source": [
    "fails_train = ntraining[ntraining[\"failure\"] != \"none\"].shape[0]\n",
    "no_fails_train = ntraining[ntraining[\"failure\"] == \"none\"].shape[0]\n",
    "fails_test = ntesting[ntesting[\"failure\"] != \"none\"].shape[0]\n",
    "no_fails_test = ntesting[ntesting[\"failure\"] == \"none\"].shape[0]\n",
    "\n",
    "print(f\"{fails_train / no_fails_train * 100:0.1f}% dos casos são falhas do dataset de treinamento.\")\n",
    "print(f\"{fails_test / no_fails_test * 100:0.1f}% dos casos são falhas do dataset de teste.\")"
   ]
  },
  {
   "cell_type": "code",
   "execution_count": null,
   "metadata": {},
   "outputs": [],
   "source": [
    "# Nós atribuímos os valores correspondentes a treinamento e teste.\n",
    "train_y = labeled_features.loc[labeled_features[\"datetime\"] < last_train_date, \"failure\"]\n",
    "train_X = labeled_features.loc[labeled_features[\"datetime\"] < last_train_date].drop([\"datetime\",\n",
    "                                                                                    \"machineID\",\n",
    "                                                                                    \"failure\"], axis=1)\n",
    "test_y = labeled_features.loc[labeled_features[\"datetime\"] > first_test_date, \"failure\"]\n",
    "test_X = labeled_features.loc[labeled_features[\"datetime\"] > first_test_date].drop([\"datetime\",\n",
    "                                                                                   \"machineID\",\n",
    "                                                                                   \"failure\"], axis=1)"
   ]
  },
  {
   "cell_type": "code",
   "execution_count": null,
   "metadata": {},
   "outputs": [],
   "source": [
    "# Algoritmo Gradient Boosting\n",
    "from sklearn.ensemble import GradientBoostingClassifier\n",
    "from xgboost import XGBClassifier as xgb"
   ]
  },
  {
   "cell_type": "code",
   "execution_count": null,
   "metadata": {},
   "outputs": [],
   "source": [
    "# Treinamento do Modelo de Gradient Boosting\n",
    "model = GradientBoostingClassifier(random_state=42)\n",
    "model = xgb(n_jobs=-1)\n",
    "model.fit(train_X, train_y);"
   ]
  },
  {
   "cell_type": "code",
   "execution_count": null,
   "metadata": {},
   "outputs": [],
   "source": [
    "# Algoritmo Random Forest\n",
    "from sklearn.ensemble import RandomForestClassifier\n",
    "from sklearn import model_selection"
   ]
  },
  {
   "cell_type": "code",
   "execution_count": null,
   "metadata": {},
   "outputs": [],
   "source": [
    "# Treinamento do modelo Random Forest\n",
    "model = RandomForestClassifier(criterion='gini', \n",
    "                               n_estimators=10, \n",
    "                               n_jobs=-1, \n",
    "                               random_state=42, \n",
    "                               max_depth=10)\n",
    "model.fit(train_X, train_y); "
   ]
  },
  {
   "cell_type": "code",
   "execution_count": null,
   "metadata": {},
   "outputs": [],
   "source": [
    "# Obtemos resultados sobre o set de provas.\n",
    "test_result = pd.DataFrame(labeled_features.loc[labeled_features[\"datetime\"] > first_test_date])\n",
    "test_result[\"predicted_failure\"] = model.predict(test_X)\n",
    "test_results.append(test_result)\n",
    "models.append(model)"
   ]
  },
  {
   "cell_type": "code",
   "execution_count": null,
   "metadata": {},
   "outputs": [],
   "source": [
    "# Abaixo, nós plotamos as importâncias do recurso no (primeiro) trained model\n",
    "plt.figure(figsize=(10, 10))\n",
    "labels, importances = zip(*sorted(zip(test_X.columns, models[0].feature_importances_), reverse=False, key=lambda x: x[1]))\n",
    "plt.yticks(range(len(labels)), labels)\n",
    "_, labels = plt.xticks()\n",
    "plt.setp(labels, rotation=0)\n",
    "plt.barh(range(len(importances)), importances)\n",
    "plt.ylabel(\"Características\")\n",
    "plt.xlabel(\"Importancia (%)\")\n",
    "plt.title(\"Importancias das Características de Acordo com o Modelo\")\n",
    "plt.show()\n"
   ]
  },
  {
   "cell_type": "code",
   "execution_count": null,
   "metadata": {},
   "outputs": [],
   "source": [
    "# Há um desbalance esperado.\n",
    "plt.figure(figsize=(8, 4))\n",
    "labeled_features[\"failure\"].value_counts().plot(kind=\"bar\", rot=0)\n",
    "plt.title(\"Distribuiçãi de Causas de Falhas\")\n",
    "plt.xlabel(\"Componente\")\n",
    "plt.ylabel(\"Quantidade\")\n",
    "plt.show()"
   ]
  },
  {
   "cell_type": "code",
   "execution_count": null,
   "metadata": {},
   "outputs": [],
   "source": [
    "def Evaluate(predicted, actual, labels):\n",
    "    output_labels = []\n",
    "    output = []\n",
    "    \n",
    "    # Calcular a Matriz Confusão\n",
    "    cm = confusion_matrix(actual, predicted, labels=labels)\n",
    "   \n",
    "    # Calcular precisão, recall, and F1 score\n",
    "    accuracy = np.array([float(np.trace(cm)) / np.sum(cm)] * len(labels))\n",
    "    precision = precision_score(actual, predicted, average=None, labels=labels)\n",
    "    recall = recall_score(actual, predicted, average=None, labels=labels)\n",
    "    f1 = 2 * precision * recall / (precision + recall)\n",
    "    output.extend([accuracy.tolist(), precision.tolist(), recall.tolist(), f1.tolist()])\n",
    "    output_labels.extend([\"accuracy\", \"precision\", \"recall\", \"F1\"])\n",
    "    \n",
    "    # Calcular a macro verção dessas métricas\n",
    "    output.extend([[np.mean(precision)] * len(labels),\n",
    "                   [np.mean(recall)] * len(labels),\n",
    "                   [np.mean(f1)] * len(labels)])\n",
    "    output_labels.extend([\"macro precision\", \"macro recall\", \"macro F1\"])\n",
    "    \n",
    "    # Achar o one-vs.-all complicação matrix\n",
    "    cm_row_sums = cm.sum(axis = 1)\n",
    "    cm_col_sums = cm.sum(axis = 0)\n",
    "    s = np.zeros((2, 2))\n",
    "    for i in range(len(labels)):\n",
    "        v = np.array([[cm[i, i],\n",
    "                       cm_row_sums[i] - cm[i, i]],\n",
    "                      [cm_col_sums[i] - cm[i, i],\n",
    "                       np.sum(cm) + cm[i, i] - (cm_row_sums[i] + cm_col_sums[i])]])\n",
    "        s += v\n",
    "    s_row_sums = s.sum(axis = 1)\n",
    "    \n",
    "    # Adicionar precição media e micro-averaged  precisão/recall/F1\n",
    "    avg_accuracy = [np.trace(s) / np.sum(s)] * len(labels)\n",
    "    micro_prf = [float(s[0,0]) / s_row_sums[0]] * len(labels)\n",
    "    output.extend([avg_accuracy, micro_prf])\n",
    "    output_labels.extend([\"average accuracy\",\n",
    "                          \"micro-averaged precision/recall/F1\"])\n",
    "    \n",
    "    # Calcular métricas para o classificador majoritário.\n",
    "    mc_index = np.where(cm_row_sums == np.max(cm_row_sums))[0][0]\n",
    "    cm_row_dist = cm_row_sums / float(np.sum(cm))\n",
    "    mc_accuracy = 0 * cm_row_dist; mc_accuracy[mc_index] = cm_row_dist[mc_index]\n",
    "    mc_recall = 0 * cm_row_dist; mc_recall[mc_index] = 1\n",
    "    mc_precision = 0 * cm_row_dist\n",
    "    mc_precision[mc_index] = cm_row_dist[mc_index]\n",
    "    mc_F1 = 0 * cm_row_dist;\n",
    "    mc_F1[mc_index] = 2 * mc_precision[mc_index] / (mc_precision[mc_index] + 1)\n",
    "    output.extend([mc_accuracy.tolist(), mc_recall.tolist(),\n",
    "                   mc_precision.tolist(), mc_F1.tolist()])\n",
    "    output_labels.extend([\"majority class accuracy\", \"majority class recall\",\n",
    "                          \"majority class precision\", \"majority class F1\"])\n",
    "        \n",
    "    # Precisão aleatória e kappa\n",
    "    cm_col_dist = cm_col_sums / float(np.sum(cm))\n",
    "    exp_accuracy = np.array([np.sum(cm_row_dist * cm_col_dist)] * len(labels))\n",
    "    kappa = (accuracy - exp_accuracy) / (1 - exp_accuracy)\n",
    "    output.extend([exp_accuracy.tolist(), kappa.tolist()])\n",
    "    output_labels.extend([\"expected accuracy\", \"kappa\"])\n",
    "    \n",
    "\n",
    "    # Palpite aleatório.\n",
    "    rg_accuracy = np.ones(len(labels)) / float(len(labels))\n",
    "    rg_precision = cm_row_dist\n",
    "    rg_recall = np.ones(len(labels)) / float(len(labels))\n",
    "    rg_F1 = 2 * cm_row_dist / (len(labels) * cm_row_dist + 1)\n",
    "    output.extend([rg_accuracy.tolist(), rg_precision.tolist(),\n",
    "                   rg_recall.tolist(), rg_F1.tolist()])\n",
    "    output_labels.extend([\"random guess accuracy\", \"random guess precision\",\n",
    "                          \"random guess recall\", \"random guess F1\"])\n",
    "    \n",
    "    # Suposição ponderada aleatória.\n",
    "    rwg_accuracy = np.ones(len(labels)) * sum(cm_row_dist**2)\n",
    "    rwg_precision = cm_row_dist\n",
    "    rwg_recall = cm_row_dist\n",
    "    rwg_F1 = cm_row_dist\n",
    "    output.extend([rwg_accuracy.tolist(), rwg_precision.tolist(),\n",
    "                   rwg_recall.tolist(), rwg_F1.tolist()])\n",
    "    output_labels.extend([\"random weighted guess accuracy\",\n",
    "                          \"random weighted guess precision\",\n",
    "                          \"random weighted guess recall\",\n",
    "                          \"random weighted guess F1\"])\n",
    "\n",
    "    output_df = pd.DataFrame(output, columns=labels)\n",
    "    output_df.index = output_labels\n",
    "                  \n",
    "    return output_df\n"
   ]
  },
  {
   "cell_type": "code",
   "execution_count": null,
   "metadata": {},
   "outputs": [],
   "source": [
    "evaluation_results = []\n",
    "test_result = test_results[0]\n",
    "evaluation_result = Evaluate(actual = test_result[\"failure\"],\n",
    "                             predicted = test_result[\"predicted_failure\"],\n",
    "                             labels = [\"none\", \"comp1\", \"comp2\", \"comp3\", \"comp4\"])\n",
    "skplt.metrics.plot_confusion_matrix(\n",
    "    test_result[\"failure\"],\n",
    "    test_result[\"predicted_failure\"],\n",
    "    normalize=False,\n",
    "    title=\"Matriz Confusão Gradient Boosting\"\n",
    ")\n",
    "\n",
    "skplt.metrics.plot_confusion_matrix(\n",
    "    test_result[\"failure\"],\n",
    "    test_result[\"predicted_failure\"],\n",
    "    normalize=True,\n",
    "    title=\"Matriz Confusão Normatizada Gradient Boosting\",\n",
    ")\n",
    "plt.show()\n",
    "\n",
    "evaluation_results.append(evaluation_result)\n",
    "evaluation_results[0]  # mostrar resultados completos apenas para a primeira divisão."
   ]
  },
  {
   "cell_type": "code",
   "execution_count": null,
   "metadata": {},
   "outputs": [],
   "source": [
    "# Para um problema de clasificação binaria se utiliza a curva ROC-AUC.\n",
    "# Para este caso multi-clase utilizaremos precisão vs sensibilidade.\n",
    "skplt.metrics.plot_precision_recall_curve(\n",
    "    test_y,\n",
    "    model.predict_proba(test_X),\n",
    "    title=\"Curva Precisão-Sensibilidade\",\n",
    "    figsize=(10,3)\n",
    ")\n",
    "plt.show()"
   ]
  },
  {
   "cell_type": "code",
   "execution_count": null,
   "metadata": {},
   "outputs": [],
   "source": [
    "evaluation_results[0].loc[\"recall\"].values\n"
   ]
  },
  {
   "cell_type": "code",
   "execution_count": null,
   "metadata": {},
   "outputs": [],
   "source": [
    "recall_df = pd.DataFrame([evaluation_results[0].loc[\"recall\"].values],\n",
    "                         columns=[\"none\", \"comp1\", \"comp2\", \"comp3\", \"comp4\"],\n",
    "                         index=[\"Sensibilidade por Componente\"])\n",
    "recall_df.T"
   ]
  },
  {
   "cell_type": "code",
   "execution_count": null,
   "metadata": {},
   "outputs": [],
   "source": [
    "test_values = train_X.iloc[0].values\n",
    "test_values"
   ]
  },
  {
   "cell_type": "code",
   "execution_count": null,
   "metadata": {},
   "outputs": [],
   "source": [
    "# XGBoost aceita únicamente matrizes de 2 dimensões.\n",
    "single_test = pd.DataFrame([test_values], columns=test_X.columns, index=[0])\n",
    "single_test"
   ]
  },
  {
   "cell_type": "code",
   "execution_count": null,
   "metadata": {},
   "outputs": [],
   "source": [
    "probas = model.predict_proba(single_test)\n",
    "prediction = model.predict(single_test)\n",
    "ordered_classes = np.unique(np.array(test_y))"
   ]
  },
  {
   "cell_type": "code",
   "execution_count": null,
   "metadata": {},
   "outputs": [],
   "source": [
    "results = pd.DataFrame(probas,\n",
    "                       columns=ordered_classes,\n",
    "                       index=[0])\n",
    "print(f\"Predicción: {prediction[0]}\")\n",
    "results"
   ]
  },
  {
   "cell_type": "code",
   "execution_count": null,
   "metadata": {},
   "outputs": [],
   "source": []
  },
  {
   "cell_type": "code",
   "execution_count": null,
   "metadata": {},
   "outputs": [],
   "source": []
  },
  {
   "cell_type": "code",
   "execution_count": null,
   "metadata": {},
   "outputs": [],
   "source": []
  },
  {
   "cell_type": "code",
   "execution_count": null,
   "metadata": {},
   "outputs": [],
   "source": []
  }
 ],
 "metadata": {
  "kernelspec": {
   "display_name": "Python 3",
   "language": "python",
   "name": "python3"
  },
  "language_info": {
   "codemirror_mode": {
    "name": "ipython",
    "version": 3
   },
   "file_extension": ".py",
   "mimetype": "text/x-python",
   "name": "python",
   "nbconvert_exporter": "python",
   "pygments_lexer": "ipython3",
   "version": "3.8.6"
  }
 },
 "nbformat": 4,
 "nbformat_minor": 4
}
